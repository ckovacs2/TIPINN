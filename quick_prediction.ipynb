{
 "cells": [
  {
   "cell_type": "code",
   "execution_count": 1,
   "metadata": {},
   "outputs": [],
   "source": [
    "from model import TIPINN_Cooling\n",
    "import matplotlib.pyplot as plt"
   ]
  },
  {
   "cell_type": "code",
   "execution_count": 2,
   "metadata": {},
   "outputs": [
    {
     "name": "stdout",
     "output_type": "stream",
     "text": [
      "pl=True, tl=True\n"
     ]
    },
    {
     "ename": "",
     "evalue": "",
     "output_type": "error",
     "traceback": [
      "\u001b[1;31mThe Kernel crashed while executing code in the current cell or a previous cell. \n",
      "\u001b[1;31mPlease review the code in the cell(s) to identify a possible cause of the failure. \n",
      "\u001b[1;31mClick <a href='https://aka.ms/vscodeJupyterKernelCrash'>here</a> for more info. \n",
      "\u001b[1;31mView Jupyter <a href='command:jupyter.viewOutput'>log</a> for further details."
     ]
    }
   ],
   "source": [
    "phys_losses = [True, False]\n",
    "topo_losses = [True, False]\n",
    "records = []\n",
    "for pl in phys_losses:\n",
    "    for tl in topo_losses:\n",
    "        print(f\"{pl=}, {tl=}\")\n",
    "        cooling = TIPINN_Cooling(phys_loss=pl, topo_loss=tl, lr = 1e-5, epochs=10_000)\n",
    "        losses = cooling.fit(cooling.t, cooling.T)\n",
    "        predict = cooling.predict(cooling.times)\n",
    "        data = {'phys_loss': pl, 'topo_loss': tl, 'losses': losses, 'prediction': predict, 'times': cooling.times}\n",
    "        records.append(data)"
   ]
  },
  {
   "cell_type": "code",
   "execution_count": null,
   "metadata": {},
   "outputs": [],
   "source": [
    "fig, ax = plt.subplots(2, 1, figsize = (8, 6))\n",
    "for record in records:\n",
    "    xs = range(len(record['losses']))\n",
    "    ys = range(len(record['prediction']))\n",
    "    tl = \"TopoLoss\"\n",
    "    pl = \"PhysLoss\"\n",
    "    if not record['topo_loss']:\n",
    "        tl = \"No T\"\n",
    "    if not record['phys_loss']:\n",
    "        pl = \"No P\"\n",
    "    label = tl + '-' + pl\n",
    "    ax[0].plot(xs, record['losses'], label = label, lw = 2)\n",
    "    ax[1].plot(ys, record['prediction'].numpy().flatten(), label = label, lw = 2)\n",
    "\n",
    "ax[0].set_ylabel(\"Loss\", fontsize = 12)\n",
    "ax[0].set_xlabel(\"Epochs\", fontsize = 12)\n",
    "ax[0].set_yscale('log')\n",
    "ax[0].legend()\n",
    "\n",
    "ax[1].set_ylabel('Prediction', fontsize = 12)\n",
    "ax[1].set_xlabel(\"Time\", fontsize = 12)\n",
    "ax[1].plot(record['times'], cooling.temps, label = 'Ground Truth', lw = 1, color = 'black', linestyle = '--')\n",
    "ax[1].legend()\n",
    "plt.suptitle(\"Cooling Law with Different Losses\", fontsize = 20)\n",
    "plt.tight_layout()\n",
    "plt.show()"
   ]
  }
 ],
 "metadata": {
  "kernelspec": {
   "display_name": "Python 3",
   "language": "python",
   "name": "python3"
  },
  "language_info": {
   "codemirror_mode": {
    "name": "ipython",
    "version": 3
   },
   "file_extension": ".py",
   "mimetype": "text/x-python",
   "name": "python",
   "nbconvert_exporter": "python",
   "pygments_lexer": "ipython3",
   "version": "3.10.13"
  }
 },
 "nbformat": 4,
 "nbformat_minor": 2
}
